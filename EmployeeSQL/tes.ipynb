{
 "cells": [
  {
   "cell_type": "code",
   "execution_count": 1,
   "source": [
    "# Dependencies and Setup\r\n",
    "import pandas as pd\r\n",
    "import numpy as np\r\n",
    "import os"
   ],
   "outputs": [],
   "metadata": {}
  },
  {
   "cell_type": "code",
   "execution_count": 8,
   "source": [
    "department=\"../data/departments.csv\"\r\n",
    "dept_emp=\"../data/dept_emp.csv\"\r\n",
    "dept_mgr=\"../data/dept_manager.csv\"\r\n",
    "employees=\"../data/employees.csv\"\r\n",
    "salaries=\"../data/salaries.csv\"\r\n",
    "titles=\"../data/titles.csv\"\r\n",
    "\r\n",
    "department_df=pd.read_csv(department)\r\n",
    "dept_emp_df=pd.read_csv(dept_emp)\r\n",
    "dept_mgr_df=pd.read_csv(dept_mgr)\r\n",
    "employees_df=pd.read_csv(employees)\r\n",
    "salary_df=pd.read_csv(salaries)\r\n",
    "title_df=pd.read_csv(titles)"
   ],
   "outputs": [],
   "metadata": {}
  },
  {
   "cell_type": "code",
   "execution_count": 12,
   "source": [
    "title_df.dtypes"
   ],
   "outputs": [
    {
     "output_type": "execute_result",
     "data": {
      "text/plain": [
       "title_id    object\n",
       "title       object\n",
       "dtype: object"
      ]
     },
     "metadata": {},
     "execution_count": 12
    }
   ],
   "metadata": {}
  }
 ],
 "metadata": {
  "orig_nbformat": 4,
  "language_info": {
   "name": "python",
   "version": "3.6.10",
   "mimetype": "text/x-python",
   "codemirror_mode": {
    "name": "ipython",
    "version": 3
   },
   "pygments_lexer": "ipython3",
   "nbconvert_exporter": "python",
   "file_extension": ".py"
  },
  "kernelspec": {
   "name": "python3",
   "display_name": "Python 3.6.10 64-bit ('PythonData': conda)"
  },
  "interpreter": {
   "hash": "6b71ca6b95ad0b69e06a4c6e36321db20af4ee56b4afd01d46f3a8600b2487b4"
  }
 },
 "nbformat": 4,
 "nbformat_minor": 2
}